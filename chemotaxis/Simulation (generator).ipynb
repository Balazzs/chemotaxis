{
 "cells": [
  {
   "cell_type": "code",
   "execution_count": 2,
   "metadata": {},
   "outputs": [],
   "source": [
    "#constants (ms, muM, l)\n",
    "k_l = 1\n",
    "k_ml = 1\n",
    "k_r = 0.1 * 1e-3\n",
    "k_b = 0.1 * 1e-3\n",
    "#l#????\n",
    "a_b = 800 * 1e-3\n",
    "a_r = 80 * 1e-3\n",
    "a_rp = a_r\n",
    "d_b = 1000 * 1e-3\n",
    "d_r = 100 * 1e-3\n",
    "\n",
    "E_start = 10000\n",
    "B_start = 2000\n",
    "R_start = 200\n",
    "\n",
    "V = 1.4e-15\n",
    "muM = 6.022e17\n",
    "number_to_muM = 1 / (muM * V)\n",
    "\n",
    "alpha_m = [0, 0.1, 0.5, 0.75, 1]\n",
    "alpha_m_O = [0, 0, 0.1, 0.5, 1]"
   ]
  },
  {
   "cell_type": "code",
   "execution_count": 3,
   "metadata": {},
   "outputs": [],
   "source": [
    "states = {}\n",
    "reactions = []"
   ]
  },
  {
   "cell_type": "code",
   "execution_count": 4,
   "metadata": {},
   "outputs": [],
   "source": [
    "def add_reaction(from_, to_, k, d = 0):\n",
    "    reactions.append([from_, to_, k])\n",
    "    if d is not 0:\n",
    "        reactions.append([to_, from_, d])"
   ]
  },
  {
   "cell_type": "code",
   "execution_count": null,
   "metadata": {},
   "outputs": [],
   "source": []
  },
  {
   "cell_type": "code",
   "execution_count": 5,
   "metadata": {},
   "outputs": [],
   "source": [
    "max_methylation = 4\n",
    "\n",
    "R = \"R\"\n",
    "B = \"B\"\n",
    "l = \"l\"\n",
    "\n",
    "alphas = {\"U\": alpha_m, \"O\": alpha_m_O}\n",
    "\n",
    "for m in range(max_methylation):\n",
    "    for state in [\"U\", \"O\"]:\n",
    "        E = \"E\" + str(m) + state\n",
    "        E_R = E + \"_\" + R\n",
    "        E_m = \"E\" + str(m+1) + state\n",
    "        E_m_B = E_m + \"_\" + B\n",
    "        \n",
    "        add_reaction([E, R], [E_R], a_r, d_r)#TODO a_r could depend on whether active or insactive\n",
    "        \n",
    "        add_reaction([E_R], [E_m, R], k_r)\n",
    "        add_reaction([E_m, B], [E_m_B], a_b * alphas[state][m+1], d_b)\n",
    "        add_reaction([E_m_B], [E, B], k_b)\n",
    "    \n",
    "    EU = \"E\" + str(m) + \"U\"\n",
    "    EO = \"E\" + str(m) + \"O\"\n",
    "    \n",
    "    EU_m = \"E\" + str(m+1) + \"U\"\n",
    "    EO_m = \"E\" + str(m+1) + \"O\"\n",
    "    \n",
    "    EU_R = EU + \"_\" + R\n",
    "    EO_R = EO + \"_\" + R\n",
    "    \n",
    "    EU_B = EU_m + \"_\" + B\n",
    "    EO_B = EO_m + \"_\" + B\n",
    "    \n",
    "    add_reaction([EU, l], [EO], k_l, k_ml)\n",
    "    add_reaction([EU_R, l], [EO_R], k_l, k_ml)\n",
    "    add_reaction([EU_B, l], [EO_B], k_l, k_ml)\n",
    "\n",
    "add_reaction([\"E\" + str(max_methylation) + \"U\", l], [\"E\" + str(max_methylation) + \"O\"], k_l, k_ml)"
   ]
  },
  {
   "cell_type": "code",
   "execution_count": 6,
   "metadata": {},
   "outputs": [
    {
     "data": {
      "text/plain": [
       "[[['E0U', 'R'], ['E0U_R'], 0.08],\n",
       " [['E0U_R'], ['E0U', 'R'], 0.1],\n",
       " [['E0U_R'], ['E1U', 'R'], 0.0001],\n",
       " [['E1U', 'B'], ['E1U_B'], 0.08000000000000002],\n",
       " [['E1U_B'], ['E1U', 'B'], 1.0],\n",
       " [['E1U_B'], ['E0U', 'B'], 0.0001],\n",
       " [['E0O', 'R'], ['E0O_R'], 0.08],\n",
       " [['E0O_R'], ['E0O', 'R'], 0.1],\n",
       " [['E0O_R'], ['E1O', 'R'], 0.0001],\n",
       " [['E1O', 'B'], ['E1O_B'], 0.0],\n",
       " [['E1O_B'], ['E1O', 'B'], 1.0],\n",
       " [['E1O_B'], ['E0O', 'B'], 0.0001],\n",
       " [['E0U', 'l'], ['E0O'], 1],\n",
       " [['E0O'], ['E0U', 'l'], 1],\n",
       " [['E0U_R', 'l'], ['E0O_R'], 1],\n",
       " [['E0O_R'], ['E0U_R', 'l'], 1],\n",
       " [['E1U_B', 'l'], ['E1O_B'], 1],\n",
       " [['E1O_B'], ['E1U_B', 'l'], 1],\n",
       " [['E1U', 'R'], ['E1U_R'], 0.08],\n",
       " [['E1U_R'], ['E1U', 'R'], 0.1],\n",
       " [['E1U_R'], ['E2U', 'R'], 0.0001],\n",
       " [['E2U', 'B'], ['E2U_B'], 0.4],\n",
       " [['E2U_B'], ['E2U', 'B'], 1.0],\n",
       " [['E2U_B'], ['E1U', 'B'], 0.0001],\n",
       " [['E1O', 'R'], ['E1O_R'], 0.08],\n",
       " [['E1O_R'], ['E1O', 'R'], 0.1],\n",
       " [['E1O_R'], ['E2O', 'R'], 0.0001],\n",
       " [['E2O', 'B'], ['E2O_B'], 0.08000000000000002],\n",
       " [['E2O_B'], ['E2O', 'B'], 1.0],\n",
       " [['E2O_B'], ['E1O', 'B'], 0.0001],\n",
       " [['E1U', 'l'], ['E1O'], 1],\n",
       " [['E1O'], ['E1U', 'l'], 1],\n",
       " [['E1U_R', 'l'], ['E1O_R'], 1],\n",
       " [['E1O_R'], ['E1U_R', 'l'], 1],\n",
       " [['E2U_B', 'l'], ['E2O_B'], 1],\n",
       " [['E2O_B'], ['E2U_B', 'l'], 1],\n",
       " [['E2U', 'R'], ['E2U_R'], 0.08],\n",
       " [['E2U_R'], ['E2U', 'R'], 0.1],\n",
       " [['E2U_R'], ['E3U', 'R'], 0.0001],\n",
       " [['E3U', 'B'], ['E3U_B'], 0.6000000000000001],\n",
       " [['E3U_B'], ['E3U', 'B'], 1.0],\n",
       " [['E3U_B'], ['E2U', 'B'], 0.0001],\n",
       " [['E2O', 'R'], ['E2O_R'], 0.08],\n",
       " [['E2O_R'], ['E2O', 'R'], 0.1],\n",
       " [['E2O_R'], ['E3O', 'R'], 0.0001],\n",
       " [['E3O', 'B'], ['E3O_B'], 0.4],\n",
       " [['E3O_B'], ['E3O', 'B'], 1.0],\n",
       " [['E3O_B'], ['E2O', 'B'], 0.0001],\n",
       " [['E2U', 'l'], ['E2O'], 1],\n",
       " [['E2O'], ['E2U', 'l'], 1],\n",
       " [['E2U_R', 'l'], ['E2O_R'], 1],\n",
       " [['E2O_R'], ['E2U_R', 'l'], 1],\n",
       " [['E3U_B', 'l'], ['E3O_B'], 1],\n",
       " [['E3O_B'], ['E3U_B', 'l'], 1],\n",
       " [['E3U', 'R'], ['E3U_R'], 0.08],\n",
       " [['E3U_R'], ['E3U', 'R'], 0.1],\n",
       " [['E3U_R'], ['E4U', 'R'], 0.0001],\n",
       " [['E4U', 'B'], ['E4U_B'], 0.8],\n",
       " [['E4U_B'], ['E4U', 'B'], 1.0],\n",
       " [['E4U_B'], ['E3U', 'B'], 0.0001],\n",
       " [['E3O', 'R'], ['E3O_R'], 0.08],\n",
       " [['E3O_R'], ['E3O', 'R'], 0.1],\n",
       " [['E3O_R'], ['E4O', 'R'], 0.0001],\n",
       " [['E4O', 'B'], ['E4O_B'], 0.8],\n",
       " [['E4O_B'], ['E4O', 'B'], 1.0],\n",
       " [['E4O_B'], ['E3O', 'B'], 0.0001],\n",
       " [['E3U', 'l'], ['E3O'], 1],\n",
       " [['E3O'], ['E3U', 'l'], 1],\n",
       " [['E3U_R', 'l'], ['E3O_R'], 1],\n",
       " [['E3O_R'], ['E3U_R', 'l'], 1],\n",
       " [['E4U_B', 'l'], ['E4O_B'], 1],\n",
       " [['E4O_B'], ['E4U_B', 'l'], 1],\n",
       " [['E4U', 'l'], ['E4O'], 1],\n",
       " [['E4O'], ['E4U', 'l'], 1]]"
      ]
     },
     "execution_count": 6,
     "metadata": {},
     "output_type": "execute_result"
    }
   ],
   "source": [
    "reactions"
   ]
  },
  {
   "cell_type": "code",
   "execution_count": 7,
   "metadata": {},
   "outputs": [],
   "source": [
    "states = {}\n",
    "\n",
    "for [f, t, _] in reactions:\n",
    "    for state in f:\n",
    "        if state not in states:\n",
    "            states[state] = 0\n",
    "    for state in t:\n",
    "        if state not in states:\n",
    "            states[state] = 0\n",
    "\n",
    "null_states = states.copy()"
   ]
  },
  {
   "cell_type": "code",
   "execution_count": 8,
   "metadata": {},
   "outputs": [],
   "source": [
    "states[\"E0U\"] = E_start * number_to_muM\n",
    "states[\"R\"] = R_start * number_to_muM\n",
    "states[\"B\"] = B_start * number_to_muM"
   ]
  },
  {
   "cell_type": "code",
   "execution_count": 9,
   "metadata": {},
   "outputs": [],
   "source": [
    "def get_activity():\n",
    "    activity = 0\n",
    "    for m in range(max_methylation):\n",
    "        activity += states[\"E\" + str(m) + \"O\"] * alpha_m_O[m]\n",
    "        activity += states[\"E\" + str(m) + \"U\"] * alpha_m[m]\n",
    "    return activity"
   ]
  },
  {
   "cell_type": "code",
   "execution_count": 10,
   "metadata": {},
   "outputs": [
    {
     "data": {
      "text/plain": [
       "0.0"
      ]
     },
     "execution_count": 10,
     "metadata": {},
     "output_type": "execute_result"
    }
   ],
   "source": [
    "get_activity()"
   ]
  },
  {
   "cell_type": "code",
   "execution_count": 11,
   "metadata": {},
   "outputs": [],
   "source": [
    "from functools import reduce\n",
    "\n",
    "def step(dt, states):\n",
    "    state_delta = null_states.copy()\n",
    "    \n",
    "    for f, t, r in reactions:\n",
    "        prod = reduce(lambda x,y: x*y, map(lambda x: states[x], f))\n",
    "        for f_ in f:\n",
    "            state_delta[f_] -= prod * r * dt\n",
    "        for t_ in t:\n",
    "            state_delta[t_] += prod * r * dt\n",
    "    \n",
    "    for (k, v) in state_delta.items():\n",
    "        states[k] += v"
   ]
  },
  {
   "cell_type": "code",
   "execution_count": 260,
   "metadata": {
    "scrolled": false
   },
   "outputs": [
    {
     "data": {
      "text/plain": [
       "{'E0U': 4.641755691582423,\n",
       " 'R': 0.023400191351116158,\n",
       " 'E0U_R': 0.08680754388579828,\n",
       " 'E1U': 1.0054832023119507,\n",
       " 'B': 2.1584401140690854,\n",
       " 'E1U_B': 0.11573837001607742,\n",
       " 'E0O': 4.641752800555678,\n",
       " 'E0O_R': 0.08680754130875608,\n",
       " 'E1O': 1.0633062362995882,\n",
       " 'E1O_B': 0.05786629168231128,\n",
       " 'l': 1.0,\n",
       " 'E1U_R': 0.019318911189092125,\n",
       " 'E2U': 0.03603951903354215,\n",
       " 'E2U_B': 0.02326730836402873,\n",
       " 'E1O_R': 0.01937045426073862,\n",
       " 'E2O': 0.04387894416713116,\n",
       " 'E2O_B': 0.015421286043261453,\n",
       " 'E2U_R': 0.0007438016261562347,\n",
       " 'E3U': 0.0006628906494516853,\n",
       " 'E3U_B': 0.0007843250682183495,\n",
       " 'E2O_R': 0.0007507896380854104,\n",
       " 'E3O': 0.0007369110784294934,\n",
       " 'E3O_B': 0.0007102427081372899,\n",
       " 'E3U_R': 1.3056171383715206e-05,\n",
       " 'E4U': 7.5808630816770715e-06,\n",
       " 'E4U_B': 1.3088963476274507e-05,\n",
       " 'E3O_R': 1.3122152706559733e-05,\n",
       " 'E4O': 7.5808651755330574e-06,\n",
       " 'E4O_B': 1.3088964681424402e-05}"
      ]
     },
     "execution_count": 260,
     "metadata": {},
     "output_type": "execute_result"
    }
   ],
   "source": [
    "states"
   ]
  },
  {
   "cell_type": "code",
   "execution_count": 13,
   "metadata": {},
   "outputs": [],
   "source": [
    "A = []"
   ]
  },
  {
   "cell_type": "code",
   "execution_count": 20,
   "metadata": {},
   "outputs": [],
   "source": [
    "for _ in range(10000000):\n",
    "    states[\"l\"] = 1\n",
    "    step(0.1, states)\n",
    "    A.append(get_activity())"
   ]
  },
  {
   "cell_type": "code",
   "execution_count": 21,
   "metadata": {
    "scrolled": true
   },
   "outputs": [
    {
     "data": {
      "image/png": "[encoded data removed]",
      "text/plain": [
       "<Figure size 432x288 with 1 Axes>"
      ]
     },
     "metadata": {
      "needs_background": "light"
     },
     "output_type": "display_data"
    }
   ],
   "source": [
    "from matplotlib import pyplot as plt\n",
    "plt.plot(A[::1000]);"
   ]
  },
  {
   "cell_type": "code",
   "execution_count": 22,
   "metadata": {},
   "outputs": [],
   "source": [
    "steady_state2 = states.copy()\n",
    "#steady_state = states.copy()\n",
    "#states = steady_state2.copy()"
   ]
  },
  {
   "cell_type": "code",
   "execution_count": 23,
   "metadata": {},
   "outputs": [],
   "source": [
    "import csv\n",
    "\n",
    "w = csv.writer(open(\"steady_state_new.csv\", \"w\"))\n",
    "for key, val in steady_state2.items():\n",
    "    w.writerow([key, val])"
   ]
  },
  {
   "cell_type": "code",
   "execution_count": null,
   "metadata": {},
   "outputs": [],
   "source": []
  },
  {
   "cell_type": "code",
   "execution_count": 255,
   "metadata": {},
   "outputs": [],
   "source": [
    "cpp_template = \"\"\"{1}\n",
    "\n",
    "{0} get_derivs({0} conc)\n",
    "{{\n",
    "\\t{0} derivs = zeroVector;\n",
    "\\t\n",
    "{2}\n",
    "\\t\n",
    "\\tderivs[0] = 1;//time\n",
    "\\t\n",
    "{3}\n",
    "\\t\n",
    "\\treturn derivs;\n",
    "}}\"\"\""
   ]
  },
  {
   "cell_type": "code",
   "execution_count": 256,
   "metadata": {},
   "outputs": [],
   "source": [
    "rate_to_text = {}\n",
    "#TODO\n",
    "\n",
    "def get_ids_for_states(reactions):\n",
    "    name_to_id = {}\n",
    "    names = []\n",
    "    \n",
    "    #0 is time\n",
    "    curr_id = 0\n",
    "    \n",
    "    for [f, t, _] in reactions:\n",
    "        for state in f:\n",
    "            if state not in name_to_id:\n",
    "                name_to_id[state] = curr_id\n",
    "                names.append(state)\n",
    "                curr_id += 1\n",
    "        for state in t:\n",
    "            if state not in name_to_id:\n",
    "                name_to_id[state] = curr_id\n",
    "                names.append(state)\n",
    "                curr_id += 1\n",
    "    \n",
    "    return name_to_id, names\n",
    "\n",
    "def generate_enum(name_to_id):\n",
    "    inner_str = \",\\n\\t\".join([\"%s = %i\" % (name, id+1) for (name, id) in name_to_id.items()])\n",
    "    return \"enum Variables {\\n\\t%s\\n};\" % inner_str\n",
    "\n",
    "def make_rate_constants():\n",
    "    #TODO\n",
    "    return \"\"\n",
    "\n",
    "def get_concentration_string(name):\n",
    "    return \"conc[%s]\" % name\n",
    "\n",
    "def get_predefined_string(f):\n",
    "    return \"__\".join(f)\n",
    "\n",
    "def get_var_string(f, predefined_values):\n",
    "    if tuple(f) in predefined_values:\n",
    "        return get_predefined_string(f)\n",
    "    else:\n",
    "        return \" * \".join(map(get_concentration_string, f))\n",
    "\n",
    "def get_one_change_with_rate_string(single, predefined_values):\n",
    "    return get_var_string(single[0], predefined_values) + \" * \" + single[1]\n",
    "\n",
    "def get_equation_string(derivative, predefined_values):\n",
    "    text_fn = lambda x: get_one_change_with_rate_string(x, predefined_values)\n",
    "    \n",
    "    positive_string = \" + \".join(map(text_fn, derivative[\"positive\"]))\n",
    "    negative_string = \"\".join([\" - \" + text_fn(x) for x in derivative[\"negative\"]])\n",
    "    return positive_string + negative_string\n",
    "\n",
    "def get_line_string(name, equation):\n",
    "    return \"\\tderivs[%s] = %s;\" % (name, equation)\n",
    "\n",
    "def generate_predefinitions(predefined_values):\n",
    "    template = \"\\tconst double %s = %s;\"\n",
    "    return \"\\n\".join(map(lambda f: template % (get_predefined_string(f), \" * \".join(map(get_concentration_string, f))), predefined_values))\n",
    "        \n",
    "\n",
    "def generate_equations(reactions, name_to_id, names, predefined_values):\n",
    "    derivatives = [{\"positive\": [], \"negative\":[]} for _ in names]\n",
    "    \n",
    "    for f, t, r in reactions:            \n",
    "        for f_ in f:\n",
    "            derivatives[name_to_id[f_]][\"negative\"].append((f, str(r)))#rates arent stored as strings :(\n",
    "        for t_ in t:\n",
    "            derivatives[name_to_id[t_]][\"positive\"].append((f, str(r)))#rates arent stored as strings :(\n",
    "    \n",
    "    derivative_lines = [get_line_string(names[id], get_equation_string(deriv, predefined_values)) for id, deriv in enumerate(derivatives)]\n",
    "    \n",
    "    return \"\\n\".join(derivative_lines)\n",
    "\n",
    "def generate_Cpp_code(reactions):\n",
    "    name_to_id, names = get_ids_for_states(reactions)\n",
    "    \n",
    "    predefined_values = set()\n",
    "    \n",
    "    for f, t, r in reactions:\n",
    "        if len(f) > 1:\n",
    "            predefined_values.add(tuple(f))\n",
    "    \n",
    "    return cpp_template.format (\"std::vector<double>\",\n",
    "                           generate_enum(name_to_id),\n",
    "                           generate_predefinitions(predefined_values),\n",
    "                           generate_equations(reactions, name_to_id, names, predefined_values))"
   ]
  },
  {
   "cell_type": "code",
   "execution_count": 257,
   "metadata": {
    "scrolled": false
   },
   "outputs": [
    {
     "name": "stdout",
     "output_type": "stream",
     "text": [
      "conc[a]\n",
      "a__b__C\n",
      "a__b\n",
      "conc[a] * conc[b]\n",
      "\n",
      "\n",
      "conc[a] * conc[b] * conc[c] * k\n",
      "a__b__c * k + conc[a] * k2 - conc[f] * conc[g] * k3 - conc[d] * k2\n",
      "\n",
      "const double a__aaa = conc[a] * conc[aaa]\n",
      "const double a__b__c = conc[a] * conc[b] * conc[c]\n",
      "\n"
     ]
    }
   ],
   "source": [
    "#tests\n",
    "\n",
    "print (get_concentration_string(\"a\"))\n",
    "print (get_predefined_string ([\"a\", \"b\", \"C\"]))\n",
    "print (get_var_string([\"a\", \"b\"], {tuple([\"a\", \"b\"])}))\n",
    "print (get_var_string([\"a\", \"b\"], {tuple([\"a\", \"c\"])}))\n",
    "\n",
    "print ()\n",
    "\n",
    "print (get_equation_string({\"positive\": [], \"negative\": []}, {}))\n",
    "print (get_equation_string({\"positive\": [([\"a\", \"b\", \"c\"], \"k\")], \"negative\": []}, {}))\n",
    "print (get_equation_string({\"positive\": [([\"a\", \"b\", \"c\"], \"k\"), ([\"a\"], \"k2\")], \"negative\": [([\"f\", \"g\"], \"k3\"), ([\"d\"], \"k2\")]}, {tuple([\"a\", \"b\", \"c\"])}))\n",
    "\n",
    "print ()\n",
    "\n",
    "print (get_predefinitions({tuple([\"a\", \"b\", \"c\"]), tuple([\"a\", \"aaa\"])}))\n",
    "\n",
    "print (get_predefinitions({}))"
   ]
  },
  {
   "cell_type": "code",
   "execution_count": 258,
   "metadata": {},
   "outputs": [
    {
     "name": "stdout",
     "output_type": "stream",
     "text": [
      "\tderivs[E0U] = conc[E0U_R] * 0.1 + conc[E1U_B] * 0.0001 + conc[E0O] * 1 - E0U__R * 0.08 - E0U__l * 1;\n",
      "\tderivs[R] = conc[E0U_R] * 0.1 + conc[E0U_R] * 0.0001 + conc[E0O_R] * 0.1 + conc[E0O_R] * 0.0001 + conc[E1U_R] * 0.1 + conc[E1U_R] * 0.0001 + conc[E1O_R] * 0.1 + conc[E1O_R] * 0.0001 + conc[E2U_R] * 0.1 + conc[E2U_R] * 0.0001 + conc[E2O_R] * 0.1 + conc[E2O_R] * 0.0001 + conc[E3U_R] * 0.1 + conc[E3U_R] * 0.0001 + conc[E3O_R] * 0.1 + conc[E3O_R] * 0.0001 - E0U__R * 0.08 - E0O__R * 0.08 - E1U__R * 0.08 - E1O__R * 0.08 - E2U__R * 0.08 - E2O__R * 0.08 - E3U__R * 0.08 - E3O__R * 0.08;\n",
      "\tderivs[E0U_R] = E0U__R * 0.08 + conc[E0O_R] * 1 - conc[E0U_R] * 0.1 - conc[E0U_R] * 0.0001 - E0U_R__l * 1;\n",
      "\tderivs[E1U] = conc[E0U_R] * 0.0001 + conc[E1U_B] * 1.0 + conc[E1U_R] * 0.1 + conc[E2U_B] * 0.0001 + conc[E1O] * 1 - E1U__B * 0.08000000000000002 - E1U__R * 0.08 - E1U__l * 1;\n",
      "\tderivs[B] = conc[E1U_B] * 1.0 + conc[E1U_B] * 0.0001 + conc[E1O_B] * 1.0 + conc[E1O_B] * 0.0001 + conc[E2U_B] * 1.0 + conc[E2U_B] * 0.0001 + conc[E2O_B] * 1.0 + conc[E2O_B] * 0.0001 + conc[E3U_B] * 1.0 + conc[E3U_B] * 0.0001 + conc[E3O_B] * 1.0 + conc[E3O_B] * 0.0001 + conc[E4U_B] * 1.0 + conc[E4U_B] * 0.0001 + conc[E4O_B] * 1.0 + conc[E4O_B] * 0.0001 - E1U__B * 0.08000000000000002 - E1O__B * 0.0 - E2U__B * 0.4 - E2O__B * 0.08000000000000002 - E3U__B * 0.6000000000000001 - E3O__B * 0.4 - E4U__B * 0.8 - E4O__B * 0.8;\n",
      "\tderivs[E1U_B] = E1U__B * 0.08000000000000002 + conc[E1O_B] * 1 - conc[E1U_B] * 1.0 - conc[E1U_B] * 0.0001 - E1U_B__l * 1;\n",
      "\tderivs[E0O] = conc[E0O_R] * 0.1 + conc[E1O_B] * 0.0001 + E0U__l * 1 - E0O__R * 0.08 - conc[E0O] * 1;\n",
      "\tderivs[E0O_R] = E0O__R * 0.08 + E0U_R__l * 1 - conc[E0O_R] * 0.1 - conc[E0O_R] * 0.0001 - conc[E0O_R] * 1;\n",
      "\tderivs[E1O] = conc[E0O_R] * 0.0001 + conc[E1O_B] * 1.0 + conc[E1O_R] * 0.1 + conc[E2O_B] * 0.0001 + E1U__l * 1 - E1O__B * 0.0 - E1O__R * 0.08 - conc[E1O] * 1;\n",
      "\tderivs[E1O_B] = E1O__B * 0.0 + E1U_B__l * 1 - conc[E1O_B] * 1.0 - conc[E1O_B] * 0.0001 - conc[E1O_B] * 1;\n",
      "\tderivs[l] = conc[E0O] * 1 + conc[E0O_R] * 1 + conc[E1O_B] * 1 + conc[E1O] * 1 + conc[E1O_R] * 1 + conc[E2O_B] * 1 + conc[E2O] * 1 + conc[E2O_R] * 1 + conc[E3O_B] * 1 + conc[E3O] * 1 + conc[E3O_R] * 1 + conc[E4O_B] * 1 + conc[E4O] * 1 - E0U__l * 1 - E0U_R__l * 1 - E1U_B__l * 1 - E1U__l * 1 - E1U_R__l * 1 - E2U_B__l * 1 - E2U__l * 1 - E2U_R__l * 1 - E3U_B__l * 1 - E3U__l * 1 - E3U_R__l * 1 - E4U_B__l * 1 - E4U__l * 1;\n",
      "\tderivs[E1U_R] = E1U__R * 0.08 + conc[E1O_R] * 1 - conc[E1U_R] * 0.1 - conc[E1U_R] * 0.0001 - E1U_R__l * 1;\n",
      "\tderivs[E2U] = conc[E1U_R] * 0.0001 + conc[E2U_B] * 1.0 + conc[E2U_R] * 0.1 + conc[E3U_B] * 0.0001 + conc[E2O] * 1 - E2U__B * 0.4 - E2U__R * 0.08 - E2U__l * 1;\n",
      "\tderivs[E2U_B] = E2U__B * 0.4 + conc[E2O_B] * 1 - conc[E2U_B] * 1.0 - conc[E2U_B] * 0.0001 - E2U_B__l * 1;\n",
      "\tderivs[E1O_R] = E1O__R * 0.08 + E1U_R__l * 1 - conc[E1O_R] * 0.1 - conc[E1O_R] * 0.0001 - conc[E1O_R] * 1;\n",
      "\tderivs[E2O] = conc[E1O_R] * 0.0001 + conc[E2O_B] * 1.0 + conc[E2O_R] * 0.1 + conc[E3O_B] * 0.0001 + E2U__l * 1 - E2O__B * 0.08000000000000002 - E2O__R * 0.08 - conc[E2O] * 1;\n",
      "\tderivs[E2O_B] = E2O__B * 0.08000000000000002 + E2U_B__l * 1 - conc[E2O_B] * 1.0 - conc[E2O_B] * 0.0001 - conc[E2O_B] * 1;\n",
      "\tderivs[E2U_R] = E2U__R * 0.08 + conc[E2O_R] * 1 - conc[E2U_R] * 0.1 - conc[E2U_R] * 0.0001 - E2U_R__l * 1;\n",
      "\tderivs[E3U] = conc[E2U_R] * 0.0001 + conc[E3U_B] * 1.0 + conc[E3U_R] * 0.1 + conc[E4U_B] * 0.0001 + conc[E3O] * 1 - E3U__B * 0.6000000000000001 - E3U__R * 0.08 - E3U__l * 1;\n",
      "\tderivs[E3U_B] = E3U__B * 0.6000000000000001 + conc[E3O_B] * 1 - conc[E3U_B] * 1.0 - conc[E3U_B] * 0.0001 - E3U_B__l * 1;\n",
      "\tderivs[E2O_R] = E2O__R * 0.08 + E2U_R__l * 1 - conc[E2O_R] * 0.1 - conc[E2O_R] * 0.0001 - conc[E2O_R] * 1;\n",
      "\tderivs[E3O] = conc[E2O_R] * 0.0001 + conc[E3O_B] * 1.0 + conc[E3O_R] * 0.1 + conc[E4O_B] * 0.0001 + E3U__l * 1 - E3O__B * 0.4 - E3O__R * 0.08 - conc[E3O] * 1;\n",
      "\tderivs[E3O_B] = E3O__B * 0.4 + E3U_B__l * 1 - conc[E3O_B] * 1.0 - conc[E3O_B] * 0.0001 - conc[E3O_B] * 1;\n",
      "\tderivs[E3U_R] = E3U__R * 0.08 + conc[E3O_R] * 1 - conc[E3U_R] * 0.1 - conc[E3U_R] * 0.0001 - E3U_R__l * 1;\n",
      "\tderivs[E4U] = conc[E3U_R] * 0.0001 + conc[E4U_B] * 1.0 + conc[E4O] * 1 - E4U__B * 0.8 - E4U__l * 1;\n",
      "\tderivs[E4U_B] = E4U__B * 0.8 + conc[E4O_B] * 1 - conc[E4U_B] * 1.0 - conc[E4U_B] * 0.0001 - E4U_B__l * 1;\n",
      "\tderivs[E3O_R] = E3O__R * 0.08 + E3U_R__l * 1 - conc[E3O_R] * 0.1 - conc[E3O_R] * 0.0001 - conc[E3O_R] * 1;\n",
      "\tderivs[E4O] = conc[E3O_R] * 0.0001 + conc[E4O_B] * 1.0 + E4U__l * 1 - E4O__B * 0.8 - conc[E4O] * 1;\n",
      "\tderivs[E4O_B] = E4O__B * 0.8 + E4U_B__l * 1 - conc[E4O_B] * 1.0 - conc[E4O_B] * 0.0001 - conc[E4O_B] * 1;\n"
     ]
    }
   ],
   "source": [
    "name_to_id, names = get_ids_for_states(reactions)\n",
    "\n",
    "predefined_values = set()\n",
    "\n",
    "for f, t, r in reactions:\n",
    "    if len(f) > 1:\n",
    "        predefined_values.add(tuple(f))\n",
    "\n",
    "print(generate_equations(reactions, name_to_id, names, predefined_values))"
   ]
  },
  {
   "cell_type": "code",
   "execution_count": 259,
   "metadata": {
    "scrolled": false
   },
   "outputs": [
    {
     "name": "stdout",
     "output_type": "stream",
     "text": [
      "enum Variables {\n",
      "\tE0U = 1,\n",
      "\tR = 2,\n",
      "\tE0U_R = 3,\n",
      "\tE1U = 4,\n",
      "\tB = 5,\n",
      "\tE1U_B = 6,\n",
      "\tE0O = 7,\n",
      "\tE0O_R = 8,\n",
      "\tE1O = 9,\n",
      "\tE1O_B = 10,\n",
      "\tl = 11,\n",
      "\tE1U_R = 12,\n",
      "\tE2U = 13,\n",
      "\tE2U_B = 14,\n",
      "\tE1O_R = 15,\n",
      "\tE2O = 16,\n",
      "\tE2O_B = 17,\n",
      "\tE2U_R = 18,\n",
      "\tE3U = 19,\n",
      "\tE3U_B = 20,\n",
      "\tE2O_R = 21,\n",
      "\tE3O = 22,\n",
      "\tE3O_B = 23,\n",
      "\tE3U_R = 24,\n",
      "\tE4U = 25,\n",
      "\tE4U_B = 26,\n",
      "\tE3O_R = 27,\n",
      "\tE4O = 28,\n",
      "\tE4O_B = 29\n",
      "};\n",
      "\n",
      "std::vector<double> get_derivs(std::vector<double> conc)\n",
      "{\n",
      "\tstd::vector<double> derivs = zeroVector;\n",
      "\t\n",
      "\tconst double E2O__R = conc[E2O] * conc[R];\n",
      "\tconst double E1U__R = conc[E1U] * conc[R];\n",
      "\tconst double E2U__B = conc[E2U] * conc[B];\n",
      "\tconst double E2U_B__l = conc[E2U_B] * conc[l];\n",
      "\tconst double E1U__l = conc[E1U] * conc[l];\n",
      "\tconst double E4U__B = conc[E4U] * conc[B];\n",
      "\tconst double E2U__R = conc[E2U] * conc[R];\n",
      "\tconst double E0U__l = conc[E0U] * conc[l];\n",
      "\tconst double E3U__R = conc[E3U] * conc[R];\n",
      "\tconst double E1U_B__l = conc[E1U_B] * conc[l];\n",
      "\tconst double E3U__l = conc[E3U] * conc[l];\n",
      "\tconst double E1O__R = conc[E1O] * conc[R];\n",
      "\tconst double E0O__R = conc[E0O] * conc[R];\n",
      "\tconst double E3O__B = conc[E3O] * conc[B];\n",
      "\tconst double E4O__B = conc[E4O] * conc[B];\n",
      "\tconst double E0U_R__l = conc[E0U_R] * conc[l];\n",
      "\tconst double E4U__l = conc[E4U] * conc[l];\n",
      "\tconst double E0U__R = conc[E0U] * conc[R];\n",
      "\tconst double E4U_B__l = conc[E4U_B] * conc[l];\n",
      "\tconst double E3O__R = conc[E3O] * conc[R];\n",
      "\tconst double E2U_R__l = conc[E2U_R] * conc[l];\n",
      "\tconst double E1O__B = conc[E1O] * conc[B];\n",
      "\tconst double E1U_R__l = conc[E1U_R] * conc[l];\n",
      "\tconst double E3U_B__l = conc[E3U_B] * conc[l];\n",
      "\tconst double E2U__l = conc[E2U] * conc[l];\n",
      "\tconst double E3U__B = conc[E3U] * conc[B];\n",
      "\tconst double E1U__B = conc[E1U] * conc[B];\n",
      "\tconst double E2O__B = conc[E2O] * conc[B];\n",
      "\tconst double E3U_R__l = conc[E3U_R] * conc[l];\n",
      "\t\n",
      "\tderivs[0] = 1;//time\n",
      "\t\n",
      "\tderivs[E0U] = conc[E0U_R] * 0.1 + conc[E1U_B] * 0.0001 + conc[E0O] * 1 - E0U__R * 0.08 - E0U__l * 1;\n",
      "\tderivs[R] = conc[E0U_R] * 0.1 + conc[E0U_R] * 0.0001 + conc[E0O_R] * 0.1 + conc[E0O_R] * 0.0001 + conc[E1U_R] * 0.1 + conc[E1U_R] * 0.0001 + conc[E1O_R] * 0.1 + conc[E1O_R] * 0.0001 + conc[E2U_R] * 0.1 + conc[E2U_R] * 0.0001 + conc[E2O_R] * 0.1 + conc[E2O_R] * 0.0001 + conc[E3U_R] * 0.1 + conc[E3U_R] * 0.0001 + conc[E3O_R] * 0.1 + conc[E3O_R] * 0.0001 - E0U__R * 0.08 - E0O__R * 0.08 - E1U__R * 0.08 - E1O__R * 0.08 - E2U__R * 0.08 - E2O__R * 0.08 - E3U__R * 0.08 - E3O__R * 0.08;\n",
      "\tderivs[E0U_R] = E0U__R * 0.08 + conc[E0O_R] * 1 - conc[E0U_R] * 0.1 - conc[E0U_R] * 0.0001 - E0U_R__l * 1;\n",
      "\tderivs[E1U] = conc[E0U_R] * 0.0001 + conc[E1U_B] * 1.0 + conc[E1U_R] * 0.1 + conc[E2U_B] * 0.0001 + conc[E1O] * 1 - E1U__B * 0.08000000000000002 - E1U__R * 0.08 - E1U__l * 1;\n",
      "\tderivs[B] = conc[E1U_B] * 1.0 + conc[E1U_B] * 0.0001 + conc[E1O_B] * 1.0 + conc[E1O_B] * 0.0001 + conc[E2U_B] * 1.0 + conc[E2U_B] * 0.0001 + conc[E2O_B] * 1.0 + conc[E2O_B] * 0.0001 + conc[E3U_B] * 1.0 + conc[E3U_B] * 0.0001 + conc[E3O_B] * 1.0 + conc[E3O_B] * 0.0001 + conc[E4U_B] * 1.0 + conc[E4U_B] * 0.0001 + conc[E4O_B] * 1.0 + conc[E4O_B] * 0.0001 - E1U__B * 0.08000000000000002 - E1O__B * 0.0 - E2U__B * 0.4 - E2O__B * 0.08000000000000002 - E3U__B * 0.6000000000000001 - E3O__B * 0.4 - E4U__B * 0.8 - E4O__B * 0.8;\n",
      "\tderivs[E1U_B] = E1U__B * 0.08000000000000002 + conc[E1O_B] * 1 - conc[E1U_B] * 1.0 - conc[E1U_B] * 0.0001 - E1U_B__l * 1;\n",
      "\tderivs[E0O] = conc[E0O_R] * 0.1 + conc[E1O_B] * 0.0001 + E0U__l * 1 - E0O__R * 0.08 - conc[E0O] * 1;\n",
      "\tderivs[E0O_R] = E0O__R * 0.08 + E0U_R__l * 1 - conc[E0O_R] * 0.1 - conc[E0O_R] * 0.0001 - conc[E0O_R] * 1;\n",
      "\tderivs[E1O] = conc[E0O_R] * 0.0001 + conc[E1O_B] * 1.0 + conc[E1O_R] * 0.1 + conc[E2O_B] * 0.0001 + E1U__l * 1 - E1O__B * 0.0 - E1O__R * 0.08 - conc[E1O] * 1;\n",
      "\tderivs[E1O_B] = E1O__B * 0.0 + E1U_B__l * 1 - conc[E1O_B] * 1.0 - conc[E1O_B] * 0.0001 - conc[E1O_B] * 1;\n",
      "\tderivs[l] = conc[E0O] * 1 + conc[E0O_R] * 1 + conc[E1O_B] * 1 + conc[E1O] * 1 + conc[E1O_R] * 1 + conc[E2O_B] * 1 + conc[E2O] * 1 + conc[E2O_R] * 1 + conc[E3O_B] * 1 + conc[E3O] * 1 + conc[E3O_R] * 1 + conc[E4O_B] * 1 + conc[E4O] * 1 - E0U__l * 1 - E0U_R__l * 1 - E1U_B__l * 1 - E1U__l * 1 - E1U_R__l * 1 - E2U_B__l * 1 - E2U__l * 1 - E2U_R__l * 1 - E3U_B__l * 1 - E3U__l * 1 - E3U_R__l * 1 - E4U_B__l * 1 - E4U__l * 1;\n",
      "\tderivs[E1U_R] = E1U__R * 0.08 + conc[E1O_R] * 1 - conc[E1U_R] * 0.1 - conc[E1U_R] * 0.0001 - E1U_R__l * 1;\n",
      "\tderivs[E2U] = conc[E1U_R] * 0.0001 + conc[E2U_B] * 1.0 + conc[E2U_R] * 0.1 + conc[E3U_B] * 0.0001 + conc[E2O] * 1 - E2U__B * 0.4 - E2U__R * 0.08 - E2U__l * 1;\n",
      "\tderivs[E2U_B] = E2U__B * 0.4 + conc[E2O_B] * 1 - conc[E2U_B] * 1.0 - conc[E2U_B] * 0.0001 - E2U_B__l * 1;\n",
      "\tderivs[E1O_R] = E1O__R * 0.08 + E1U_R__l * 1 - conc[E1O_R] * 0.1 - conc[E1O_R] * 0.0001 - conc[E1O_R] * 1;\n",
      "\tderivs[E2O] = conc[E1O_R] * 0.0001 + conc[E2O_B] * 1.0 + conc[E2O_R] * 0.1 + conc[E3O_B] * 0.0001 + E2U__l * 1 - E2O__B * 0.08000000000000002 - E2O__R * 0.08 - conc[E2O] * 1;\n",
      "\tderivs[E2O_B] = E2O__B * 0.08000000000000002 + E2U_B__l * 1 - conc[E2O_B] * 1.0 - conc[E2O_B] * 0.0001 - conc[E2O_B] * 1;\n",
      "\tderivs[E2U_R] = E2U__R * 0.08 + conc[E2O_R] * 1 - conc[E2U_R] * 0.1 - conc[E2U_R] * 0.0001 - E2U_R__l * 1;\n",
      "\tderivs[E3U] = conc[E2U_R] * 0.0001 + conc[E3U_B] * 1.0 + conc[E3U_R] * 0.1 + conc[E4U_B] * 0.0001 + conc[E3O] * 1 - E3U__B * 0.6000000000000001 - E3U__R * 0.08 - E3U__l * 1;\n",
      "\tderivs[E3U_B] = E3U__B * 0.6000000000000001 + conc[E3O_B] * 1 - conc[E3U_B] * 1.0 - conc[E3U_B] * 0.0001 - E3U_B__l * 1;\n",
      "\tderivs[E2O_R] = E2O__R * 0.08 + E2U_R__l * 1 - conc[E2O_R] * 0.1 - conc[E2O_R] * 0.0001 - conc[E2O_R] * 1;\n",
      "\tderivs[E3O] = conc[E2O_R] * 0.0001 + conc[E3O_B] * 1.0 + conc[E3O_R] * 0.1 + conc[E4O_B] * 0.0001 + E3U__l * 1 - E3O__B * 0.4 - E3O__R * 0.08 - conc[E3O] * 1;\n",
      "\tderivs[E3O_B] = E3O__B * 0.4 + E3U_B__l * 1 - conc[E3O_B] * 1.0 - conc[E3O_B] * 0.0001 - conc[E3O_B] * 1;\n",
      "\tderivs[E3U_R] = E3U__R * 0.08 + conc[E3O_R] * 1 - conc[E3U_R] * 0.1 - conc[E3U_R] * 0.0001 - E3U_R__l * 1;\n",
      "\tderivs[E4U] = conc[E3U_R] * 0.0001 + conc[E4U_B] * 1.0 + conc[E4O] * 1 - E4U__B * 0.8 - E4U__l * 1;\n",
      "\tderivs[E4U_B] = E4U__B * 0.8 + conc[E4O_B] * 1 - conc[E4U_B] * 1.0 - conc[E4U_B] * 0.0001 - E4U_B__l * 1;\n",
      "\tderivs[E3O_R] = E3O__R * 0.08 + E3U_R__l * 1 - conc[E3O_R] * 0.1 - conc[E3O_R] * 0.0001 - conc[E3O_R] * 1;\n",
      "\tderivs[E4O] = conc[E3O_R] * 0.0001 + conc[E4O_B] * 1.0 + E4U__l * 1 - E4O__B * 0.8 - conc[E4O] * 1;\n",
      "\tderivs[E4O_B] = E4O__B * 0.8 + E4U_B__l * 1 - conc[E4O_B] * 1.0 - conc[E4O_B] * 0.0001 - conc[E4O_B] * 1;\n",
      "\t\n",
      "\treturn derivs;\n",
      "}\n"
     ]
    }
   ],
   "source": [
    "print(generate_Cpp_code(reactions))"
   ]
  },
  {
   "cell_type": "code",
   "execution_count": null,
   "metadata": {},
   "outputs": [],
   "source": []
  },
  {
   "cell_type": "code",
   "execution_count": null,
   "metadata": {},
   "outputs": [],
   "source": []
  }
 ],
 "metadata": {
  "kernelspec": {
   "display_name": "Python 3",
   "language": "python",
   "name": "python3"
  },
  "language_info": {
   "codemirror_mode": {
    "name": "ipython",
    "version": 3
   },
   "file_extension": ".py",
   "mimetype": "text/x-python",
   "name": "python",
   "nbconvert_exporter": "python",
   "pygments_lexer": "ipython3",
   "version": "3.7.0"
  }
 },
 "nbformat": 4,
 "nbformat_minor": 2
}
